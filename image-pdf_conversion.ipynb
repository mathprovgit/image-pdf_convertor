{
 "cells": [
  {
   "cell_type": "markdown",
   "metadata": {},
   "source": [
    "# pdf to images"
   ]
  },
  {
   "cell_type": "code",
   "execution_count": 1,
   "metadata": {
    "ExecuteTime": {
     "end_time": "2019-12-12T10:52:51.374695Z",
     "start_time": "2019-12-12T10:52:49.457183Z"
    }
   },
   "outputs": [],
   "source": [
    "#pdf to image\n",
    "from pdf2image import convert_from_path\n",
    "path ='Psychrometric_Chart.PDF'\n",
    "pages = convert_from_path(pdf_path=path, dpi=500)\n",
    "new_path=path.split('.')[0]+'.jpg'\n",
    "for page in pages:\n",
    "    page.save(new_path, 'JPEG')"
   ]
  },
  {
   "cell_type": "markdown",
   "metadata": {},
   "source": [
    "# Images to pdf"
   ]
  },
  {
   "cell_type": "code",
   "execution_count": 2,
   "metadata": {
    "ExecuteTime": {
     "end_time": "2019-12-12T10:52:52.518344Z",
     "start_time": "2019-12-12T10:52:52.495231Z"
    }
   },
   "outputs": [],
   "source": [
    "#images to pdf\n",
    "import os\n",
    "import img2pdf\n",
    "path_images_folder=os.getcwd()\n",
    "with open(\"out.pdf\", \"wb\") as f:\n",
    "    f.write(img2pdf.convert([i for i in os.listdir(path_images_folder) if i.endswith(\".jpg\")]))"
   ]
  },
  {
   "cell_type": "code",
   "execution_count": null,
   "metadata": {
    "ExecuteTime": {
     "end_time": "2019-12-12T07:30:16.972025Z",
     "start_time": "2019-12-12T07:30:16.963047Z"
    }
   },
   "outputs": [],
   "source": []
  },
  {
   "cell_type": "code",
   "execution_count": null,
   "metadata": {},
   "outputs": [],
   "source": []
  }
 ],
 "metadata": {
  "hide_input": false,
  "kernelspec": {
   "display_name": "Python 3",
   "language": "python",
   "name": "python3"
  },
  "language_info": {
   "codemirror_mode": {
    "name": "ipython",
    "version": 3
   },
   "file_extension": ".py",
   "mimetype": "text/x-python",
   "name": "python",
   "nbconvert_exporter": "python",
   "pygments_lexer": "ipython3",
   "version": "3.7.3"
  },
  "toc": {
   "base_numbering": 1,
   "nav_menu": {},
   "number_sections": true,
   "sideBar": true,
   "skip_h1_title": false,
   "title_cell": "Table of Contents",
   "title_sidebar": "Contents",
   "toc_cell": false,
   "toc_position": {},
   "toc_section_display": true,
   "toc_window_display": false
  }
 },
 "nbformat": 4,
 "nbformat_minor": 2
}

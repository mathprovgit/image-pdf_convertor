{
 "cells": [
  {
   "cell_type": "code",
   "execution_count": 29,
   "metadata": {
    "ExecuteTime": {
     "end_time": "2019-12-11T18:32:32.168113Z",
     "start_time": "2019-12-11T18:32:24.168669Z"
    }
   },
   "outputs": [],
   "source": [
    "#pdf to image\n",
    "from pdf2image import convert_from_path\n",
    "path ='CaCl2-H2O i-x.pdf'\n",
    "pages = convert_from_path(pdf_path=path, dpi=500)\n",
    "new_path=path.split('.')[0]+'.jpg'\n",
    "for page in pages:\n",
    "    page.save(new_path, 'JPEG')"
   ]
  },
  {
   "cell_type": "code",
   "execution_count": 44,
   "metadata": {
    "ExecuteTime": {
     "end_time": "2019-12-11T18:40:59.365188Z",
     "start_time": "2019-12-11T18:40:59.337269Z"
    }
   },
   "outputs": [],
   "source": [
    "#images to pdf\n",
    "import os\n",
    "import img2pdf\n",
    "path_images_folder='C:/Users/mathieu_laptop/Desktop/0_TUberlin/17_programming/github_repos/pdf_to_jpg'\n",
    "with open(\"test.pdf\", \"wb\") as f:\n",
    "    f.write(img2pdf.convert([i for i in os.listdir(path_images_folder) if i.endswith(\".jpg\")]))"
   ]
  },
  {
   "cell_type": "code",
   "execution_count": null,
   "metadata": {},
   "outputs": [],
   "source": []
  }
 ],
 "metadata": {
  "hide_input": false,
  "kernelspec": {
   "display_name": "Python 3",
   "language": "python",
   "name": "python3"
  },
  "language_info": {
   "codemirror_mode": {
    "name": "ipython",
    "version": 3
   },
   "file_extension": ".py",
   "mimetype": "text/x-python",
   "name": "python",
   "nbconvert_exporter": "python",
   "pygments_lexer": "ipython3",
   "version": "3.7.3"
  },
  "toc": {
   "base_numbering": 1,
   "nav_menu": {},
   "number_sections": true,
   "sideBar": true,
   "skip_h1_title": false,
   "title_cell": "Table of Contents",
   "title_sidebar": "Contents",
   "toc_cell": false,
   "toc_position": {},
   "toc_section_display": true,
   "toc_window_display": false
  }
 },
 "nbformat": 4,
 "nbformat_minor": 2
}
